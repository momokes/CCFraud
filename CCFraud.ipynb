{
 "cells": [
  {
   "cell_type": "code",
   "execution_count": null,
   "metadata": {
    "colab": {},
    "colab_type": "code",
    "id": "9I1FDCr2cn1f"
   },
   "outputs": [],
   "source": [
    "import seaborn as sns\n",
    "import numpy as np\n",
    "import pandas as pd\n",
    "import matplotlib.pyplot as plt\n",
    "from sklearn.preprocessing import LabelEncoder\n",
    "from tqdm import tqdm"
   ]
  },
  {
   "cell_type": "code",
   "execution_count": null,
   "metadata": {
    "colab": {
     "base_uri": "https://localhost:8080/",
     "height": 128
    },
    "colab_type": "code",
    "id": "xbvM18Gfc9GP",
    "outputId": "81506f38-dca8-4068-f9ff-624287a94455"
   },
   "outputs": [],
   "source": [
    "from google.colab import drive\n",
    "drive.mount('/content/drive')"
   ]
  },
  {
   "cell_type": "code",
   "execution_count": null,
   "metadata": {
    "colab": {},
    "colab_type": "code",
    "id": "-55AdZ-adKPf"
   },
   "outputs": [],
   "source": [
    "Training_identity=pd.read_csv('/content/drive/My Drive/Colab Notebooks/Creditcard/train_identity.csv')\n",
    "Training_transaction=pd.read_csv('/content/drive/My Drive/Colab Notebooks/Creditcard/train_transaction.csv')"
   ]
  },
  {
   "cell_type": "code",
   "execution_count": null,
   "metadata": {
    "colab": {},
    "colab_type": "code",
    "id": "eccIopcxdmoC"
   },
   "outputs": [],
   "source": [
    "Test_identity=pd.read_csv('/content/drive/My Drive/Colab Notebooks/Creditcard/test_identity.csv')\n",
    "Test_transaction=pd.read_csv('/content/drive/My Drive/Colab Notebooks/Creditcard/test_transaction.csv')"
   ]
  },
  {
   "cell_type": "code",
   "execution_count": null,
   "metadata": {
    "colab": {
     "base_uri": "https://localhost:8080/",
     "height": 35
    },
    "colab_type": "code",
    "id": "ErZGabqbd3Mn",
    "outputId": "84ade7d3-6f9a-4e1a-df16-06e2b1d0022a"
   },
   "outputs": [],
   "source": [
    "training=pd.merge(Training_transaction,Training_identity,on='TransactionID',how='left')\n",
    "training.shape"
   ]
  },
  {
   "cell_type": "code",
   "execution_count": null,
   "metadata": {
    "colab": {
     "base_uri": "https://localhost:8080/",
     "height": 35
    },
    "colab_type": "code",
    "id": "JXWhnHwGeKF2",
    "outputId": "54593caa-15d5-47fa-e620-70ef0def1980"
   },
   "outputs": [],
   "source": [
    "test=pd.merge(Test_transaction,Test_identity,on='TransactionID',how='left')\n",
    "test.shape"
   ]
  },
  {
   "cell_type": "code",
   "execution_count": null,
   "metadata": {
    "colab": {},
    "colab_type": "code",
    "id": "MsVwdE-KeWi3"
   },
   "outputs": [],
   "source": [
    "#Reduce the memory\n",
    "def reduce_mem_usage(df, verbose=True):\n",
    "    numerics = ['int16', 'int32', 'int64', 'float16', 'float32', 'float64']\n",
    "    start_mem = df.memory_usage().sum() / 1024**2    \n",
    "    for col in df.columns:\n",
    "        col_type = df[col].dtypes\n",
    "        if col_type in numerics:\n",
    "            c_min = df[col].min()\n",
    "            c_max = df[col].max()\n",
    "            if str(col_type)[:3] == 'int':\n",
    "                if c_min > np.iinfo(np.int8).min and c_max < np.iinfo(np.int8).max:\n",
    "                    df[col] = df[col].astype(np.int8)\n",
    "                elif c_min > np.iinfo(np.int16).min and c_max < np.iinfo(np.int16).max:\n",
    "                    df[col] = df[col].astype(np.int16)\n",
    "                elif c_min > np.iinfo(np.int32).min and c_max < np.iinfo(np.int32).max:\n",
    "                    df[col] = df[col].astype(np.int32)\n",
    "                elif c_min > np.iinfo(np.int64).min and c_max < np.iinfo(np.int64).max:\n",
    "                    df[col] = df[col].astype(np.int64)  \n",
    "            else:\n",
    "                if c_min > np.finfo(np.float16).min and c_max < np.finfo(np.float16).max:\n",
    "                  df[col] = df[col].astype(np.float16)\n",
    "                elif c_min > np.finfo(np.float32).min and c_max < np.finfo(np.float32).max:\n",
    "                    df[col] = df[col].astype(np.float32)\n",
    "                else:\n",
    "                    df[col] = df[col].astype(np.float64)    \n",
    "    end_mem = df.memory_usage().sum() / 1024**2\n",
    "    if verbose: \n",
    "        print('Mem. usage decreased to {:5.2f} Mb ({:.1f}% reduction)'.format(end_mem, 100 * (start_mem - end_mem) / start_mem))\n",
    "    return df"
   ]
  },
  {
   "cell_type": "code",
   "execution_count": null,
   "metadata": {
    "colab": {
     "base_uri": "https://localhost:8080/",
     "height": 54
    },
    "colab_type": "code",
    "id": "37kWmks6gLXO",
    "outputId": "d4d30f30-f796-4e84-ff42-79b7e342cdbe"
   },
   "outputs": [],
   "source": [
    "train=reduce_mem_usage(training)\n",
    "test=reduce_mem_usage(test)"
   ]
  },
  {
   "cell_type": "code",
   "execution_count": null,
   "metadata": {
    "colab": {},
    "colab_type": "code",
    "id": "EgdOIMXDgVIw"
   },
   "outputs": [],
   "source": [
    "del Training_identity,Training_transaction,Test_identity,Test_transaction"
   ]
  },
  {
   "cell_type": "code",
   "execution_count": null,
   "metadata": {
    "colab": {
     "base_uri": "https://localhost:8080/",
     "height": 581
    },
    "colab_type": "code",
    "id": "brPdjvYPiFdF",
    "outputId": "2f12c346-7ceb-44c0-e362-407b74ee038e"
   },
   "outputs": [],
   "source": [
    "#Recognize categorical and numerical attributes¶\n",
    "cat_cols = list(train.select_dtypes(include=['object']).columns)\n",
    "cat_cols"
   ]
  },
  {
   "cell_type": "code",
   "execution_count": null,
   "metadata": {
    "colab": {
     "base_uri": "https://localhost:8080/",
     "height": 526
    },
    "colab_type": "code",
    "id": "ien6xP7biI2w",
    "outputId": "d48111b6-cc24-4661-9d83-56d445463ca8"
   },
   "outputs": [],
   "source": [
    "\n",
    "null_percent = train.isnull().sum()/train.shape[0]*100\n",
    "cols_to_drop = np.array(null_percent[null_percent > 50].index)\n",
    "cols_to_drop"
   ]
  },
  {
   "cell_type": "code",
   "execution_count": null,
   "metadata": {
    "colab": {
     "base_uri": "https://localhost:8080/",
     "height": 126
    },
    "colab_type": "code",
    "id": "C7f_tAoDicey",
    "outputId": "42c9fe4a-ec39-474a-97e3-71e568c57ee6"
   },
   "outputs": [],
   "source": [
    "train = train.drop(cols_to_drop, axis=1)\n",
    "test = test.drop(cols_to_drop,axis=1)\n",
    "train.columns"
   ]
  },
  {
   "cell_type": "code",
   "execution_count": null,
   "metadata": {
    "colab": {
     "base_uri": "https://localhost:8080/",
     "height": 1000
    },
    "colab_type": "code",
    "id": "yYX4hWJcitQ-",
    "outputId": "7bd43882-5955-4e69-91ee-eea4d4b59f4c"
   },
   "outputs": [],
   "source": [
    "#Include fake data with mode¶\n",
    "null_cols = train.columns[train.isna().any()].tolist()\n",
    "\n",
    "for i in null_cols:\n",
    "    print('data type of {} is {}'.format(i, str(train[i].dtype)))\n",
    "    train[i] = train[i].replace(np.nan, train[i].mode()[0])\n",
    "    print('Filled the null values of column {}'.format(i))\n",
    "    print('--------------------------------------------')"
   ]
  },
  {
   "cell_type": "code",
   "execution_count": null,
   "metadata": {
    "colab": {
     "base_uri": "https://localhost:8080/",
     "height": 1000
    },
    "colab_type": "code",
    "id": "LFtVOmRPjDkf",
    "outputId": "07435a09-3c96-4113-a63b-8668adfd0f44"
   },
   "outputs": [],
   "source": [
    "null_cols=test.columns[test.isna().any()].tolist()\n",
    "\n",
    "for i in null_cols:\n",
    "  print('data type of {} is {} '.format(i,str(train[i].dtype)))\n",
    "  test[i]=test[i].replace(np.nan,test[i].mode()[0])\n",
    "  print('Filled null values of columns{}'.format(i))\n",
    "  print('----------------------')"
   ]
  },
  {
   "cell_type": "code",
   "execution_count": null,
   "metadata": {
    "colab": {},
    "colab_type": "code",
    "id": "VlQlNwcYlmI4"
   },
   "outputs": [],
   "source": [
    "#Use LabelEncoder to change text to int¶\n",
    "x_train=train.drop('isFraud',axis=1)\n",
    "y_train=train['isFraud']"
   ]
  },
  {
   "cell_type": "code",
   "execution_count": null,
   "metadata": {
    "colab": {
     "base_uri": "https://localhost:8080/",
     "height": 399
    },
    "colab_type": "code",
    "id": "mTSw5XbkmFg8",
    "outputId": "8f6f4479-d874-4ac9-bb00-c79fb82e7a85"
   },
   "outputs": [],
   "source": [
    "categorical=x_train.select_dtypes(include='object')\n",
    "numerical=x_train.select_dtypes(exclude='object')\n",
    "\n",
    "cat_cols=categorical.columns.values\n",
    "num_cols=numerical.columns.values\n",
    "\n",
    "print('categorical columns:',cat_cols)\n",
    "print('Numerical columns:',num_cols)"
   ]
  },
  {
   "cell_type": "code",
   "execution_count": null,
   "metadata": {
    "colab": {},
    "colab_type": "code",
    "id": "XnC8-8w9nFNy"
   },
   "outputs": [],
   "source": [
    "x_train['TransactionAmt']=x_train['TransactionAmt'].apply(np.log)\n",
    "test['TransactionAmt']=test['TransactionAmt'].apply(np.log)"
   ]
  },
  {
   "cell_type": "code",
   "execution_count": null,
   "metadata": {
    "colab": {
     "base_uri": "https://localhost:8080/",
     "height": 35
    },
    "colab_type": "code",
    "id": "2W2OEKyr0HIP",
    "outputId": "b46c4667-0267-4b0e-c3ef-3f518ca78e51"
   },
   "outputs": [],
   "source": [
    "for i in tqdm(cat_cols):\n",
    "  label=LabelEncoder()\n",
    "  label.fit(list(x_train[i].values) + list(test[i].values))\n",
    "  x_train[i]=label.transform(list(x_train[i].values))\n",
    "  test[i]=label.transform(list(test[i].values))\n",
    "  \n",
    "  \n",
    "  "
   ]
  },
  {
   "cell_type": "code",
   "execution_count": null,
   "metadata": {
    "colab": {
     "base_uri": "https://localhost:8080/",
     "height": 901
    },
    "colab_type": "code",
    "id": "SszpS35n02uJ",
    "outputId": "fb220f1c-d4fe-4022-ea64-8a74984d7d6a"
   },
   "outputs": [],
   "source": [
    "fig = plt.figure(figsize=(20,15))\n",
    "\n",
    "j = 1\n",
    "for i in cat_cols:\n",
    "    if(i == 'P_emaildomain'):\n",
    "        continue\n",
    "    plt.subplot(3,3,j)\n",
    "    sns.countplot(x=x_train[i], palette='winter_r')\n",
    "    j = j + 1\n",
    "    \n",
    "plt.show()"
   ]
  },
  {
   "cell_type": "code",
   "execution_count": null,
   "metadata": {
    "colab": {
     "base_uri": "https://localhost:8080/",
     "height": 295
    },
    "colab_type": "code",
    "id": "MTQy73FB1ZMI",
    "outputId": "ed180320-6061-4473-962d-0dcfb9a4a325"
   },
   "outputs": [],
   "source": [
    "sns.countplot(x=y_train, palette='gist_rainbow')\n",
    "plt.title('Fraud or Not')\n",
    "plt.show()"
   ]
  },
  {
   "cell_type": "code",
   "execution_count": null,
   "metadata": {
    "colab": {},
    "colab_type": "code",
    "id": "UG8Anpr31dS1"
   },
   "outputs": [],
   "source": [
    "## This is a datetime column.\n",
    "x_train_final = x_train.drop('TransactionDT', axis=1)\n",
    "test_final = test.drop('TransactionDT', axis=1)"
   ]
  },
  {
   "cell_type": "code",
   "execution_count": null,
   "metadata": {
    "colab": {
     "base_uri": "https://localhost:8080/",
     "height": 74
    },
    "colab_type": "code",
    "id": "tHeD9BzY1hUH",
    "outputId": "21f67f4f-fbeb-4730-d608-95e3192e0086"
   },
   "outputs": [],
   "source": [
    "#create Logistic regression\n",
    "from sklearn import linear_model\n",
    "filename = 'model.pkl'\n",
    "logistic_model = linear_model.LogisticRegression(C=0.09,solver='lbfgs',class_weight='balanced')  \n",
    "logistic_model.fit(x_train_final, y_train)\n",
    "import pickle\n",
    "pickle.dump(logistic_model, open(filename, 'wb'))"
   ]
  },
  {
   "cell_type": "code",
   "execution_count": null,
   "metadata": {
    "colab": {},
    "colab_type": "code",
    "id": "VGfRh0UW1o7s"
   },
   "outputs": [],
   "source": [
    "#create  the prediction\n",
    "logistic_predictions = logistic_model.predict(test_final)\n"
   ]
  },
  {
   "cell_type": "code",
   "execution_count": null,
   "metadata": {
    "colab": {
     "base_uri": "https://localhost:8080/",
     "height": 35
    },
    "colab_type": "code",
    "id": "3-pDxnLl1uRY",
    "outputId": "69fc7523-a09e-4970-d02d-9e49d7c684d9"
   },
   "outputs": [],
   "source": [
    "score = logistic_model.score(x_train_final, y_train)\n",
    "print(score)"
   ]
  },
  {
   "cell_type": "code",
   "execution_count": null,
   "metadata": {
    "colab": {
     "base_uri": "https://localhost:8080/",
     "height": 198
    },
    "colab_type": "code",
    "id": "PLgzbLOy1wtl",
    "outputId": "c0ff7579-aef1-4a02-e38f-3479bd3b8ed8"
   },
   "outputs": [],
   "source": [
    "#create submit value\n",
    "sub = pd.read_csv('/content/drive/My Drive/Colab Notebooks/Creditcard/sample_submission.csv')\n",
    "sub['isFraud'] = logistic_predictions\n",
    "sub.head()"
   ]
  },
  {
   "cell_type": "code",
   "execution_count": null,
   "metadata": {
    "colab": {},
    "colab_type": "code",
    "id": "2gdbHlEJ2AYh"
   },
   "outputs": [],
   "source": [
    "sub.to_csv('submission.csv', index=False)"
   ]
  },
  {
   "cell_type": "code",
   "execution_count": null,
   "metadata": {
    "colab": {},
    "colab_type": "code",
    "id": "tnRBvTKa2Ddo"
   },
   "outputs": [],
   "source": []
  }
 ],
 "metadata": {
  "accelerator": "GPU",
  "colab": {
   "name": "credit_card.ipynb",
   "provenance": [],
   "version": "0.3.2"
  },
  "kernelspec": {
   "display_name": "Python 3",
   "language": "python",
   "name": "python3"
  },
  "language_info": {
   "codemirror_mode": {
    "name": "ipython",
    "version": 3
   },
   "file_extension": ".py",
   "mimetype": "text/x-python",
   "name": "python",
   "nbconvert_exporter": "python",
   "pygments_lexer": "ipython3",
   "version": "3.7.3"
  }
 },
 "nbformat": 4,
 "nbformat_minor": 1
}
